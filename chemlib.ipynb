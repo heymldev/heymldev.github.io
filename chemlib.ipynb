{
  "nbformat": 4,
  "nbformat_minor": 0,
  "metadata": {
    "colab": {
      "provenance": [],
      "authorship_tag": "ABX9TyMCvDlnwC66+enmINCAWD04",
      "include_colab_link": true
    },
    "kernelspec": {
      "name": "python3",
      "display_name": "Python 3"
    },
    "language_info": {
      "name": "python"
    }
  },
  "cells": [
    {
      "cell_type": "markdown",
      "metadata": {
        "id": "view-in-github",
        "colab_type": "text"
      },
      "source": [
        "<a href=\"https://colab.research.google.com/github/heymldev/heymldev.github.io/blob/main/chemlib.ipynb\" target=\"_parent\"><img src=\"https://colab.research.google.com/assets/colab-badge.svg\" alt=\"Open In Colab\"/></a>"
      ]
    },
    {
      "cell_type": "code",
      "execution_count": null,
      "metadata": {
        "id": "KeeWvQaWYelz"
      },
      "outputs": [],
      "source": [
        "pip install chemlib"
      ]
    },
    {
      "cell_type": "code",
      "source": [
        "pip install periodictable"
      ],
      "metadata": {
        "id": "EnV82ocWZwJJ"
      },
      "execution_count": null,
      "outputs": []
    },
    {
      "cell_type": "code",
      "source": [
        "pip install chempy"
      ],
      "metadata": {
        "id": "58b8UHDOZz6x"
      },
      "execution_count": null,
      "outputs": []
    },
    {
      "cell_type": "code",
      "source": [
        "import chemlib\n",
        "# Let's print out all available methods and attributes in chemlib\n",
        "print(dir(chemlib))"
      ],
      "metadata": {
        "colab": {
          "base_uri": "https://localhost:8080/"
        },
        "id": "l72p_NE3ZTx_",
        "outputId": "626fc15b-ad35-4687-d730-48112de00214"
      },
      "execution_count": 17,
      "outputs": [
        {
          "output_type": "stream",
          "name": "stdout",
          "text": [
            "['AVOGADROS_NUMBER', 'Combustion', 'Compound', 'Element', 'F', 'Galvanic_Cell', 'PeriodicTable', 'Reaction', 'SUB', 'Solution', 'Wave', '__builtins__', '__cached__', '__doc__', '__file__', '__loader__', '__name__', '__package__', '__path__', '__spec__', 'chemistry', 'combustion_analysis', 'constants', 'electrochemistry', 'electrolysis', 'empirical_formula_by_percent_comp', 'energy_of_hydrogen_orbital', 'pH', 'parse', 'quantum_mechanics', 'rydberg', 'thermochemistry', 'utils']\n"
          ]
        }
      ]
    },
    {
      "cell_type": "code",
      "source": [
        "print(list(chemlib.__dict__.keys()))"
      ],
      "metadata": {
        "colab": {
          "base_uri": "https://localhost:8080/"
        },
        "id": "9BAilZJBaW8X",
        "outputId": "968089aa-8372-4a48-8418-ef3465df0cbf"
      },
      "execution_count": 16,
      "outputs": [
        {
          "output_type": "stream",
          "name": "stdout",
          "text": [
            "['__name__', '__doc__', '__package__', '__loader__', '__spec__', '__path__', '__file__', '__cached__', '__builtins__', 'utils', 'parse', 'constants', 'chemistry', 'PeriodicTable', 'SUB', 'AVOGADROS_NUMBER', 'Element', 'Compound', 'Reaction', 'Combustion', 'Solution', 'empirical_formula_by_percent_comp', 'pH', 'quantum_mechanics', 'Wave', 'rydberg', 'energy_of_hydrogen_orbital', 'electrochemistry', 'electrolysis', 'F', 'Galvanic_Cell', 'thermochemistry', 'combustion_analysis']\n"
          ]
        }
      ]
    },
    {
      "cell_type": "code",
      "source": [
        "from chemlib import Element\n",
        "xenon = Element('Xe') #Instantiate with symbol of Element"
      ],
      "metadata": {
        "id": "mWV7pkePYzDY"
      },
      "execution_count": 6,
      "outputs": []
    },
    {
      "cell_type": "code",
      "source": [
        "print(xenon.properties)\n",
        "#{'AtomicNumber': 54.0, 'Element': 'Xenon', 'Symbol': 'Xe', 'AtomicMass': 131.293, 'Neutrons': 77.0, 'Protons': 54.0, 'Electrons': 54.0, 'Period': 5.0, 'Group': 18.0, 'Phase': 'gas', 'Radioactive': False, 'Natural': True, 'Metal': False, 'Nonmetal': True, 'Metalloid': False, 'Type': 'Noble Gas', 'AtomicRadius': '1.2', 'Electronegativity': nan, 'FirstIonization': '12.1298', 'Density': '0.00589', 'MeltingPoint': '161.45', 'BoilingPoint': '165.03', 'Isotopes': 31.0, 'Discoverer': 'Ramsay and Travers', 'Year': '1898', 'SpecificHeat': '0.158', 'Shells': 5.0, 'Valence': 8.0, 'Config': '[Kr] 4d10 5s2 5p6', 'MassNumber': 131.0}\n",
        "print(xenon.AtomicMass)\n",
        "#131.293\n",
        "print(xenon.FirstIonization)\n",
        "#'12.1298'"
      ],
      "metadata": {
        "colab": {
          "base_uri": "https://localhost:8080/"
        },
        "id": "IeVnFuL8ZFvp",
        "outputId": "6feed6ec-68c4-4a01-f651-e7c18205ad31"
      },
      "execution_count": 5,
      "outputs": [
        {
          "output_type": "stream",
          "name": "stdout",
          "text": [
            "{'AtomicNumber': 54, 'Element': 'Xenon', 'Symbol': 'Xe', 'AtomicMass': 131.293, 'Neutrons': 77, 'Protons': 54, 'Electrons': 54, 'Period': 5, 'Group': 18, 'Phase': 'gas', 'Radioactive': False, 'Natural': True, 'Metal': False, 'Nonmetal': True, 'Metalloid': False, 'Type': 'Noble Gas', 'AtomicRadius': 1.2, 'Electronegativity': nan, 'FirstIonization': 12.1298, 'Density': 0.00589, 'MeltingPoint': 161.45, 'BoilingPoint': 165.03, 'Isotopes': 31.0, 'Discoverer': 'Ramsay and Travers', 'Year': 1898.0, 'SpecificHeat': 0.158, 'Shells': 5, 'Valence': 8, 'Config': '[Kr] 4d10 5s2 5p6', 'MassNumber': 131}\n",
            "131.293\n",
            "12.1298\n"
          ]
        }
      ]
    },
    {
      "cell_type": "markdown",
      "source": [
        "'AVOGADROS_NUMBER', 'Combustion', 'Compound', 'Element', 'F', 'Galvanic_Cell', 'PeriodicTable', 'Reaction', 'SUB', 'Solution', 'Wave', '__builtins__', '__cached__', '__doc__', '__file__', '__loader__', '__name__', '__package__', '__path__', '__spec__', 'chemistry', 'combustion_analysis', 'constants', 'electrochemistry', 'electrolysis', 'empirical_formula_by_percent_comp', 'energy_of_hydrogen_orbital', 'pH', 'parse', 'quantum_mechanics', 'rydberg', 'thermochemistry', 'utils']"
      ],
      "metadata": {
        "id": "OjxH3kjZb7UC"
      }
    },
    {
      "cell_type": "code",
      "source": [
        "import chemlib\n",
        "print(chemlib.AVOGADROS_NUMBER)"
      ],
      "metadata": {
        "colab": {
          "base_uri": "https://localhost:8080/"
        },
        "id": "xZw9ZlCFbmof",
        "outputId": "bffcbf73-f2ad-4e8b-a2b9-30acf9ee7112"
      },
      "execution_count": 24,
      "outputs": [
        {
          "output_type": "stream",
          "name": "stdout",
          "text": [
            "6.02e+23\n"
          ]
        }
      ]
    },
    {
      "cell_type": "code",
      "source": [
        "print(chemlib.pH)"
      ],
      "metadata": {
        "colab": {
          "base_uri": "https://localhost:8080/"
        },
        "id": "b5KkH-HOhyQz",
        "outputId": "05d6b996-0818-42ae-ef90-47c2fcf0cf65"
      },
      "execution_count": 39,
      "outputs": [
        {
          "output_type": "stream",
          "name": "stdout",
          "text": [
            "<function pH at 0x7e2df2c9c3a0>\n"
          ]
        }
      ]
    },
    {
      "cell_type": "code",
      "source": [
        "print(chemlib.quantum_mechanics)"
      ],
      "metadata": {
        "colab": {
          "base_uri": "https://localhost:8080/"
        },
        "id": "GJWe5IRSb-DS",
        "outputId": "0bd6f945-ca90-412e-b3c5-8b039090a5c0"
      },
      "execution_count": 25,
      "outputs": [
        {
          "output_type": "stream",
          "name": "stdout",
          "text": [
            "<module 'chemlib.quantum_mechanics' from '/usr/local/lib/python3.10/dist-packages/chemlib/quantum_mechanics.py'>\n"
          ]
        }
      ]
    },
    {
      "cell_type": "code",
      "source": [
        "from chemlib import Element\n",
        "calsium = Element('Ca')\n",
        "print(calsium.properties)\n",
        "print(calsium.AtomicMass)\n",
        "print(calsium.FirstIonization)"
      ],
      "metadata": {
        "colab": {
          "base_uri": "https://localhost:8080/"
        },
        "id": "rryjseT9cb7A",
        "outputId": "969f91fd-0835-41fe-c0f0-0adf883e595b"
      },
      "execution_count": 29,
      "outputs": [
        {
          "output_type": "stream",
          "name": "stdout",
          "text": [
            "{'AtomicNumber': 20, 'Element': 'Calcium', 'Symbol': 'Ca', 'AtomicMass': 40.078, 'Neutrons': 20, 'Protons': 20, 'Electrons': 20, 'Period': 4, 'Group': 2, 'Phase': 'solid', 'Radioactive': False, 'Natural': True, 'Metal': True, 'Nonmetal': False, 'Metalloid': False, 'Type': 'Alkaline Earth Metal', 'AtomicRadius': 2.2, 'Electronegativity': 1.0, 'FirstIonization': 6.1132, 'Density': 1.54, 'MeltingPoint': 1112.15, 'BoilingPoint': 1757.0, 'Isotopes': 14.0, 'Discoverer': 'Davy', 'Year': 1808.0, 'SpecificHeat': 0.647, 'Shells': 4, 'Valence': 2, 'Config': '[Ar] 4s2', 'MassNumber': 40}\n",
            "40.078\n",
            "6.1132\n"
          ]
        }
      ]
    },
    {
      "cell_type": "markdown",
      "source": [
        "সর্বাধিক আয়নীকরণ শক্তিবিশিষ্ট মৌল হলো হিলিয়াম (He)।\n",
        "\n",
        "সর্বনিম্ন আয়নিকরণ শক্তিবিশিষ্ট মৌল হলো সিজিয়াম (Cs)।"
      ],
      "metadata": {
        "id": "FdN-bKuEeQLI"
      }
    },
    {
      "cell_type": "code",
      "source": [
        "from chemlib import Element\n",
        "magnesium = Element('Mg')\n",
        "magnesium_properties = magnesium.properties\n",
        "for x in magnesium_properties:\n",
        "    print(x, ':', magnesium_properties[x])"
      ],
      "metadata": {
        "colab": {
          "base_uri": "https://localhost:8080/"
        },
        "id": "AeLaj-I0eSuQ",
        "outputId": "d8a0d46c-6dff-4862-f689-9bddc9a3ffdd"
      },
      "execution_count": 31,
      "outputs": [
        {
          "output_type": "stream",
          "name": "stdout",
          "text": [
            "AtomicNumber : 12\n",
            "Element : Magnesium\n",
            "Symbol : Mg\n",
            "AtomicMass : 24.305\n",
            "Neutrons : 12\n",
            "Protons : 12\n",
            "Electrons : 12\n",
            "Period : 3\n",
            "Group : 2\n",
            "Phase : solid\n",
            "Radioactive : False\n",
            "Natural : True\n",
            "Metal : True\n",
            "Nonmetal : False\n",
            "Metalloid : False\n",
            "Type : Alkaline Earth Metal\n",
            "AtomicRadius : 1.7\n",
            "Electronegativity : 1.31\n",
            "FirstIonization : 7.6462\n",
            "Density : 1.74\n",
            "MeltingPoint : 923.15\n",
            "BoilingPoint : 1363.0\n",
            "Isotopes : 8.0\n",
            "Discoverer : Black\n",
            "Year : 1755.0\n",
            "SpecificHeat : 1.023\n",
            "Shells : 3\n",
            "Valence : 2\n",
            "Config : [Ne] 3s2\n",
            "MassNumber : 24\n"
          ]
        }
      ]
    },
    {
      "cell_type": "code",
      "source": [
        "from chemlib import Element\n",
        "Niobium = Element('Nb')\n",
        "Niobium_properties = Niobium.properties\n",
        "for x in Niobium_properties:\n",
        "    print(x,':', Niobium_properties[x])"
      ],
      "metadata": {
        "colab": {
          "base_uri": "https://localhost:8080/"
        },
        "id": "2pRet9nRg0zp",
        "outputId": "7e66fa0f-84c4-4a70-f1cf-122b1a00fab8"
      },
      "execution_count": 37,
      "outputs": [
        {
          "output_type": "stream",
          "name": "stdout",
          "text": [
            "AtomicNumber : 41\n",
            "Element : Niobium\n",
            "Symbol : Nb\n",
            "AtomicMass : 92.906\n",
            "Neutrons : 52\n",
            "Protons : 41\n",
            "Electrons : 41\n",
            "Period : 5\n",
            "Group : 5\n",
            "Phase : solid\n",
            "Radioactive : False\n",
            "Natural : True\n",
            "Metal : True\n",
            "Nonmetal : False\n",
            "Metalloid : False\n",
            "Type : Transition Metal\n",
            "AtomicRadius : 2.1\n",
            "Electronegativity : 1.6\n",
            "FirstIonization : 6.7589\n",
            "Density : 8.57\n",
            "MeltingPoint : 2741.15\n",
            "BoilingPoint : 5017.0\n",
            "Isotopes : 24.0\n",
            "Discoverer : Hatchett\n",
            "Year : 1801.0\n",
            "SpecificHeat : 0.265\n",
            "Shells : 5\n",
            "Valence : 0\n",
            "Config : [Kr] 4d4 5s1\n",
            "MassNumber : 93\n"
          ]
        }
      ]
    },
    {
      "cell_type": "code",
      "source": [
        "from chemlib import Compound\n",
        "water = Compound(\"H2O\")\n",
        "water.formula\n",
        "#'H₂O₁'"
      ],
      "metadata": {
        "colab": {
          "base_uri": "https://localhost:8080/",
          "height": 36
        },
        "id": "tL1_2N7xiA6p",
        "outputId": "b6e39821-2a83-4d4b-d45c-d497c5e34aa0"
      },
      "execution_count": 40,
      "outputs": [
        {
          "output_type": "execute_result",
          "data": {
            "text/plain": [
              "'H₂O₁'"
            ],
            "application/vnd.google.colaboratory.intrinsic+json": {
              "type": "string"
            }
          },
          "metadata": {},
          "execution_count": 40
        }
      ]
    },
    {
      "cell_type": "code",
      "source": [
        "water.occurences"
      ],
      "metadata": {
        "colab": {
          "base_uri": "https://localhost:8080/"
        },
        "id": "M45kNfsgiHIB",
        "outputId": "12ea80d0-f6e8-4638-bcce-64cf711e8311"
      },
      "execution_count": 41,
      "outputs": [
        {
          "output_type": "execute_result",
          "data": {
            "text/plain": [
              "{'H': 2, 'O': 1}"
            ]
          },
          "metadata": {},
          "execution_count": 41
        }
      ]
    },
    {
      "cell_type": "code",
      "source": [
        "aloh3=Compound(\"Al(OH)3\")\n",
        "print(aloh3.formula)\n",
        "print(type(aloh3.formula))\n",
        "\n",
        "print(aloh3.occurences)\n",
        "print(type(aloh3.occurences))"
      ],
      "metadata": {
        "colab": {
          "base_uri": "https://localhost:8080/"
        },
        "id": "cvF6s9exiJHZ",
        "outputId": "802c5283-0330-4b67-851f-cd1efddfb1fa"
      },
      "execution_count": 48,
      "outputs": [
        {
          "output_type": "stream",
          "name": "stdout",
          "text": [
            "O₃H₃Al₁\n",
            "<class 'str'>\n",
            "{'O': 3, 'H': 3, 'Al': 1}\n",
            "<class 'dict'>\n"
          ]
        }
      ]
    }
  ]
}